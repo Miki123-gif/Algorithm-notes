{
 "metadata": {
  "language_info": {
   "codemirror_mode": {
    "name": "ipython",
    "version": 3
   },
   "file_extension": ".py",
   "mimetype": "text/x-python",
   "name": "python",
   "nbconvert_exporter": "python",
   "pygments_lexer": "ipython3",
   "version": "3.8.3-final"
  },
  "orig_nbformat": 2,
  "kernelspec": {
   "name": "python3",
   "display_name": "Python 3.8.3 64-bit ('base': conda)",
   "metadata": {
    "interpreter": {
     "hash": "0b98fe7045fac7b56c2439711bd67da1839d9b049b6e8862420bcf34ecf3796f"
    }
   }
  }
 },
 "nbformat": 4,
 "nbformat_minor": 2,
 "cells": [
  {
   "source": [
    "# 数据抓取"
   ],
   "cell_type": "markdown",
   "metadata": {}
  },
  {
   "cell_type": "code",
   "execution_count": 1,
   "metadata": {},
   "outputs": [],
   "source": [
    "import requests"
   ]
  },
  {
   "cell_type": "code",
   "execution_count": 2,
   "metadata": {},
   "outputs": [],
   "source": [
    "week_url = 'https://dappradar.com/v2/api/dapp/thundercore/games/galaxy-blocks/chart/week'\n",
    "month_url = 'https://dappradar.com/v2/api/dapp/thundercore/games/galaxy-blocks/chart/month'\n",
    "all_url = 'https://dappradar.com/v2/api/dapp/thundercore/games/galaxy-blocks/chart/all'"
   ]
  },
  {
   "cell_type": "code",
   "execution_count": 6,
   "metadata": {},
   "outputs": [],
   "source": [
    "params = {\n",
    "    ':authority': 'dappradar.com',\n",
    "    ':path': '/v2/api/dapp/thundercore/games/galaxy-blocks/chart/week',\n",
    "}"
   ]
  },
  {
   "cell_type": "code",
   "execution_count": 7,
   "metadata": {},
   "outputs": [],
   "source": [
    "headers = {\n",
    "    'cookie': '__cfduid=d87b8e46401fad8e04b0395c6f31f22911617082335; _ga=GA1.2.189733543.1617082335; _gid=GA1.2.645825448.1617082335; _rdt_uuid=1617082346122.934071ca-529e-4361-80b4-96f037f64020; _fbp=fb.1.1617082347737.332184334; _hjid=a4521e83-66b7-4bb4-8658-95f6b9a93041; _gat=1; _hp2_id.3928182892=%7B%22userId%22%3A%224342861640682969%22%2C%22pageviewId%22%3A%224126843480895195%22%2C%22sessionId%22%3A%224259085859779402%22%2C%22identity%22%3Anull%2C%22trackerVersion%22%3A%224.0%22%7D; _hjIncludedInSessionSample=1; _hjAbsoluteSessionInProgress=1; _hp2_ses_props.3928182892=%7B%22ts%22%3A1617097371792%2C%22d%22%3A%22dappradar.com%22%2C%22h%22%3A%22%2Fthundercore%2Fgames%2Fgalaxy-blocks%22%7D',\n",
    "    'user-agent': 'Mozilla/5.0 (Macintosh; Intel Mac OS X 11_1_0) AppleWebKit/537.36 (KHTML, like Gecko) Chrome/88.0.4324.192 Safari/537.36',\n",
    "}"
   ]
  },
  {
   "cell_type": "code",
   "execution_count": 13,
   "metadata": {},
   "outputs": [],
   "source": [
    "week = requests.get(week_url, params=params, headers=headers)\n",
    "month = requests.get(month_url, params=params, headers=headers)\n",
    "all_ = requests.get(all_url, params=params, headers=headers)"
   ]
  },
  {
   "cell_type": "code",
   "execution_count": 20,
   "metadata": {},
   "outputs": [
    {
     "output_type": "execute_result",
     "data": {
      "text/plain": [
       "dict"
      ]
     },
     "metadata": {},
     "execution_count": 20
    }
   ],
   "source": [
    "type(month.json())"
   ]
  },
  {
   "cell_type": "code",
   "execution_count": 30,
   "metadata": {},
   "outputs": [],
   "source": [
    "import pickle"
   ]
  },
  {
   "cell_type": "code",
   "execution_count": 32,
   "metadata": {},
   "outputs": [],
   "source": [
    "pickle.dump(week.json(), open('./week.pkl', 'wb'))\n",
    "pickle.dump(month.json(), open('./month.pkl', 'wb'))\n",
    "pickle.dump(all_.json(), open('./all_.pkl', 'wb'))"
   ]
  },
  {
   "cell_type": "code",
   "execution_count": 33,
   "metadata": {},
   "outputs": [
    {
     "output_type": "execute_result",
     "data": {
      "text/plain": [
       "{'series': [{'name': 'Users',\n",
       "   'data': [12198, 11266, 10695, 11356, 10321, 10584]},\n",
       "  {'name': 'Volume', 'data': [44540, 41603, 41973, 43661, 37459, 38982]},\n",
       "  {'name': 'Transactions',\n",
       "   'data': [15581, 14929, 14558, 15165, 14204, 14457]}],\n",
       " 'xaxis': [1616976000000,\n",
       "  1616889600000,\n",
       "  1616803200000,\n",
       "  1616716800000,\n",
       "  1616630400000,\n",
       "  1616544000000]}"
      ]
     },
     "metadata": {},
     "execution_count": 33
    }
   ],
   "source": [
    "pickle.load(open('./week.pkl', 'rb'))"
   ]
  },
  {
   "source": [
    "# 数据处理"
   ],
   "cell_type": "markdown",
   "metadata": {}
  },
  {
   "cell_type": "code",
   "execution_count": 1,
   "metadata": {},
   "outputs": [],
   "source": [
    "import pickle"
   ]
  },
  {
   "cell_type": "code",
   "execution_count": 2,
   "metadata": {},
   "outputs": [],
   "source": [
    "week = pickle.load(open('./week.pkl', 'rb'))\n",
    "month = pickle.load(open('./month.pkl', 'rb'))\n",
    "all_ = pickle.load(open('./all_.pkl', 'rb'))"
   ]
  },
  {
   "cell_type": "code",
   "execution_count": 4,
   "metadata": {},
   "outputs": [
    {
     "output_type": "execute_result",
     "data": {
      "text/plain": [
       "(dict, dict, dict)"
      ]
     },
     "metadata": {},
     "execution_count": 4
    }
   ],
   "source": [
    "type(week), type(month), type(all_)"
   ]
  },
  {
   "cell_type": "code",
   "execution_count": 5,
   "metadata": {},
   "outputs": [
    {
     "output_type": "execute_result",
     "data": {
      "text/plain": [
       "{'series': [{'name': 'Users',\n",
       "   'data': [12198, 11266, 10695, 11356, 10321, 10584]},\n",
       "  {'name': 'Volume', 'data': [44540, 41603, 41973, 43661, 37459, 38982]},\n",
       "  {'name': 'Transactions',\n",
       "   'data': [15581, 14929, 14558, 15165, 14204, 14457]}],\n",
       " 'xaxis': [1616976000000,\n",
       "  1616889600000,\n",
       "  1616803200000,\n",
       "  1616716800000,\n",
       "  1616630400000,\n",
       "  1616544000000]}"
      ]
     },
     "metadata": {},
     "execution_count": 5
    }
   ],
   "source": [
    "# 发现里面有三个数据比较重要，users，volums，transactions\n",
    "week"
   ]
  },
  {
   "cell_type": "code",
   "execution_count": 6,
   "metadata": {},
   "outputs": [
    {
     "output_type": "execute_result",
     "data": {
      "text/plain": [
       "[{'name': 'Users', 'data': [12198, 11266, 10695, 11356, 10321, 10584]},\n",
       " {'name': 'Volume', 'data': [44540, 41603, 41973, 43661, 37459, 38982]},\n",
       " {'name': 'Transactions', 'data': [15581, 14929, 14558, 15165, 14204, 14457]}]"
      ]
     },
     "metadata": {},
     "execution_count": 6
    }
   ],
   "source": [
    "week['series'] # 是一个列表"
   ]
  },
  {
   "cell_type": "code",
   "execution_count": 7,
   "metadata": {},
   "outputs": [
    {
     "output_type": "execute_result",
     "data": {
      "text/plain": [
       "{'name': 'Users', 'data': [12198, 11266, 10695, 11356, 10321, 10584]}"
      ]
     },
     "metadata": {},
     "execution_count": 7
    }
   ],
   "source": [
    "week['series'][0] # 列表里面每个元素都是一个字典"
   ]
  },
  {
   "cell_type": "code",
   "execution_count": 10,
   "metadata": {},
   "outputs": [],
   "source": [
    "# 可以发现不管是week，还是month ，all数据，字典都是这种结构，所以可以写成函数的形式\n",
    "def data_process(data):\n",
    "    Users, Volume, Transactions = [], [], []\n",
    "    Position = data['xaxis']\n",
    "    data = data['series']\n",
    "    for i in data:\n",
    "        if i['name'] == 'Users':\n",
    "            Users.extend(i['data'])\n",
    "        elif i['name'] == 'Volume':\n",
    "            Volume.extend(i['data'])\n",
    "        else:\n",
    "            Transactions.extend(i['data'])\n",
    "    \n",
    "    return Users, Volume, Transactions, Position"
   ]
  },
  {
   "cell_type": "code",
   "execution_count": 11,
   "metadata": {},
   "outputs": [],
   "source": [
    "week_user, week_volume, week_transactions = data_process(week)"
   ]
  },
  {
   "cell_type": "code",
   "execution_count": 13,
   "metadata": {},
   "outputs": [
    {
     "output_type": "execute_result",
     "data": {
      "text/plain": [
       "([12198, 11266, 10695, 11356, 10321, 10584],\n",
       " [44540, 41603, 41973, 43661, 37459, 38982],\n",
       " [15581, 14929, 14558, 15165, 14204, 14457])"
      ]
     },
     "metadata": {},
     "execution_count": 13
    }
   ],
   "source": [
    "week_user, week_volume, week_transactions"
   ]
  },
  {
   "cell_type": "code",
   "execution_count": 14,
   "metadata": {},
   "outputs": [],
   "source": [
    "month_user, month_volume, month_transactions = data_process(month)\n",
    "all_user, all_volume, all_transactions = data_process(all_)"
   ]
  },
  {
   "cell_type": "code",
   "execution_count": null,
   "metadata": {},
   "outputs": [],
   "source": []
  }
 ]
}