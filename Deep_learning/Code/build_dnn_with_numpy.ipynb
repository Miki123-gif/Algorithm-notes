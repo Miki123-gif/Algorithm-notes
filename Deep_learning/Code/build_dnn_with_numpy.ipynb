{
 "cells": [
  {
   "cell_type": "code",
   "execution_count": 26,
   "metadata": {},
   "outputs": [],
   "source": [
    "import numpy as np"
   ]
  },
  {
   "cell_type": "markdown",
   "metadata": {},
   "source": [
    "## 初始化神经网络参数(init_layers)"
   ]
  },
  {
   "cell_type": "code",
   "execution_count": 27,
   "metadata": {},
   "outputs": [],
   "source": [
    "nn_architecture = [\n",
    "    {'input_dim':2, 'output_dim':4, 'activation':'relu'},\n",
    "    {'input_dim':4, 'output_dim':6, 'activation':'relu'},\n",
    "    {'input_dim':6, 'output_dim':6, 'activation':'relu'},\n",
    "    {'input_dim':6, 'output_dim':4, 'activation':'relu'},\n",
    "    {'input_dim':4, 'output_dim':1, 'activation':'relu'},\n",
    "]"
   ]
  },
  {
   "cell_type": "code",
   "execution_count": 28,
   "metadata": {},
   "outputs": [],
   "source": [
    "def init_layers(nn_architecture, seed=42):\n",
    "    np.random.seed(seed)\n",
    "    num_of_layers = len(nn_architecture)\n",
    "    parmas_values = {}\n",
    "    \n",
    "    for idx, layer in enumerate(nn_architecture):\n",
    "        layer_idx =idx + 1\n",
    "        layer_input_size = layer['input_dim']\n",
    "        layer_output_size = layer['output_dim']\n",
    "        \n",
    "        # 设置神经元的weight和bias\n",
    "        parmas_values['W' + str(layer_idx)] = np.random.randn(layer_output_size, layer_input_size) * 0.1\n",
    "        parmas_values['b' + str(layer_idx)] = np.random.randn(layer_output_size, 1) * 0.1\n",
    "        \n",
    "    return parmas_values"
   ]
  },
  {
   "cell_type": "code",
   "execution_count": 29,
   "metadata": {},
   "outputs": [
    {
     "data": {
      "text/plain": [
       "{'W1': array([[ 0.04967142, -0.01382643],\n",
       "        [ 0.06476885,  0.15230299],\n",
       "        [-0.02341534, -0.0234137 ],\n",
       "        [ 0.15792128,  0.07674347]]),\n",
       " 'b1': array([[-0.04694744],\n",
       "        [ 0.054256  ],\n",
       "        [-0.04634177],\n",
       "        [-0.04657298]]),\n",
       " 'W2': array([[ 0.02419623, -0.19132802, -0.17249178, -0.05622875],\n",
       "        [-0.10128311,  0.03142473, -0.09080241, -0.14123037],\n",
       "        [ 0.14656488, -0.02257763,  0.00675282, -0.14247482],\n",
       "        [-0.05443827,  0.01109226, -0.11509936,  0.0375698 ],\n",
       "        [-0.06006387, -0.02916937, -0.06017066,  0.18522782],\n",
       "        [-0.00134972, -0.10577109,  0.08225449, -0.12208436]]),\n",
       " 'b2': array([[ 0.02088636],\n",
       "        [-0.19596701],\n",
       "        [-0.1328186 ],\n",
       "        [ 0.01968612],\n",
       "        [ 0.07384666],\n",
       "        [ 0.01713683]]),\n",
       " 'W3': array([[-0.01156483, -0.03011037, -0.1478522 , -0.07198442, -0.04606388,\n",
       "          0.10571222],\n",
       "        [ 0.03436183, -0.17630402,  0.0324084 , -0.03850823, -0.0676922 ,\n",
       "          0.06116763],\n",
       "        [ 0.10309995,  0.09312801, -0.08392175, -0.03092124,  0.03312634,\n",
       "          0.09755451],\n",
       "        [-0.04791742, -0.0185659 , -0.1106335 , -0.11962066,  0.08125258,\n",
       "          0.135624  ],\n",
       "        [-0.00720101,  0.10035329,  0.0361636 , -0.06451198,  0.03613956,\n",
       "          0.15380366],\n",
       "        [-0.0035826 ,  0.15646437, -0.26197451,  0.08219025,  0.00870471,\n",
       "         -0.02990074]]),\n",
       " 'b3': array([[ 0.00917608],\n",
       "        [-0.19875689],\n",
       "        [-0.02196719],\n",
       "        [ 0.03571126],\n",
       "        [ 0.1477894 ],\n",
       "        [-0.05182702]]),\n",
       " 'W4': array([[-0.08084936, -0.0501757 ,  0.09154021,  0.03287511, -0.05297602,\n",
       "          0.05132674],\n",
       "        [ 0.00970775,  0.0968645 , -0.07020531, -0.03276621, -0.03921082,\n",
       "         -0.14635149],\n",
       "        [ 0.02961203,  0.02610553,  0.00051135, -0.02345871, -0.14153707,\n",
       "         -0.04206453],\n",
       "        [-0.03427145, -0.08022773, -0.01612857,  0.04040509,  0.18861859,\n",
       "          0.01745778]]),\n",
       " 'b4': array([[ 0.02575504],\n",
       "        [-0.00744459],\n",
       "        [-0.19187712],\n",
       "        [-0.00265139]]),\n",
       " 'W5': array([[ 0.00602302,  0.24632421, -0.0192361 ,  0.03015473]]),\n",
       " 'b5': array([[-0.00347118]])}"
      ]
     },
     "execution_count": 29,
     "metadata": {},
     "output_type": "execute_result"
    }
   ],
   "source": [
    "init_layers(nn_architecture) # 初始化网络权重参数"
   ]
  },
  {
   "cell_type": "markdown",
   "metadata": {},
   "source": [
    "## 设置激活函数(sigmoid and sigmoid_backward)"
   ]
  },
  {
   "cell_type": "code",
   "execution_count": 30,
   "metadata": {},
   "outputs": [],
   "source": [
    "# 正是激活函数让神经网络具有非线性的计算能力，下面我们将实现两个函数 Relu和Sigmoid\n",
    "\n",
    "def sigmoid(Z):\n",
    "    return 1/(1+np.exp(Z))\n",
    "\n",
    "def relu(Z):\n",
    "    return np.maximum(0, Z)\n",
    "\n",
    "def sigmoid_backward(dA, Z):\n",
    "    sig = sigmoid(Z)\n",
    "    return dA * sig * (1 - sig) # sigmoid 函数进行求导\n",
    "\n",
    "def relu_backward(dA, Z):\n",
    "    dZ = np.array(dA, copy=True)\n",
    "    dZ[Z <= 0] = 0\n",
    "    return dZ"
   ]
  },
  {
   "cell_type": "markdown",
   "metadata": {},
   "source": [
    "maximum 的用法：\n",
    "```\n",
    "\n",
    ">> np.maximum([-2, -1, 0, 1, 2], 0)\n",
    "\n",
    "array([0, 0, 0, 1, 2])\n",
    "\n",
    "```\n",
    "逐位比较，并取最大值"
   ]
  },
  {
   "cell_type": "markdown",
   "metadata": {},
   "source": [
    "## Forward Propagation(single and full layer forward propagation)"
   ]
  },
  {
   "cell_type": "code",
   "execution_count": 31,
   "metadata": {},
   "outputs": [],
   "source": [
    "def single_layer_forward_propagation(A_prev, W_curr, b_curr, activation='relu'):\n",
    "    '''\n",
    "    A_prev:输入的数据\n",
    "    W_curr:当前网络层的权重\n",
    "    b_curr:当前网络层的偏置\n",
    "    '''\n",
    "    Z_curr = np.dot(W_curr, A_prev) + b_curr # 单层的神经网络传播，输入数据乘以权重再加偏置\n",
    "    \n",
    "    if activation == 'relu':\n",
    "        activation_func = relu\n",
    "    elif activation == 'sigmoid':\n",
    "        activation_func = sigmoid\n",
    "    \n",
    "    return activation_func(Z_curr), Z_curr # 返回输入激活函数的输出，和不经过激活函数的输出"
   ]
  },
  {
   "cell_type": "markdown",
   "metadata": {},
   "source": [
    "**Note: 这里为什么要返回经过激活函数的Z_curr以及没经过激活函数的Z_curr呢？因为后面反向传播要用**"
   ]
  },
  {
   "cell_type": "code",
   "execution_count": 32,
   "metadata": {},
   "outputs": [],
   "source": [
    "# 利用单层的前向传播构建完整的前向传播\n",
    "\n",
    "def full_forward_propagation(X, params_values, nn_architecture):\n",
    "    '''\n",
    "    X:输入的数据\n",
    "    params_values:神经网络权重\n",
    "    nn_architecture:神经网络结构\n",
    "    '''\n",
    "    memory = {} # 存储每一层的输出，包括输入，有经过激活函数的，也有没经过激活函数的\n",
    "    A_curr = X # 输入的数据\n",
    "    \n",
    "    for idx, layer in enumerate(nn_architecture):\n",
    "        layer_idx = idx + 1\n",
    "        A_prev = A_curr\n",
    "        \n",
    "        activ_fuction_curr = layer['activation']\n",
    "        \n",
    "        W_curr = params_values['W' + str(layer_idx)]\n",
    "        b_curr = params_values['b' + str(layer_idx)]\n",
    "        # 经过单层的前向传播后，A_curr就变成了下一层的输入，经过激活函数，Z_curr是没有经过激活函数的\n",
    "        A_curr, Z_curr = single_layer_forward_propagation(A_prev, W_curr, b_curr, activ_fuction_curr)\n",
    "        \n",
    "        memory['A' + str(idx)] = A_prev # 经过activation激活函数的网络\n",
    "        memory['Z' + str(layer_idx)] = Z_curr # 没有经过激活函数的网络\n",
    "        \n",
    "    return A_curr, memory # 返回最后一层，和所有层的网络参数存储"
   ]
  },
  {
   "cell_type": "markdown",
   "metadata": {},
   "source": [
    "## 计算损失函数"
   ]
  },
  {
   "cell_type": "code",
   "execution_count": 33,
   "metadata": {},
   "outputs": [],
   "source": [
    "# 由于是接下来处理分类问题，所以使用交叉熵函数\n",
    "\n",
    "def get_cost_value(Y_hat, Y):\n",
    "    m = Y_hat.shape[1]\n",
    "    cost = -1/m * (np.dot(Y, np.log(Y_hat).T) + np.dot(1 - Y, np.log(1 - Y_hat).T)) # 使用交叉熵计算损失函数\n",
    "    return np.squeeze(cost)\n",
    "\n",
    "def get_accuracy_value(Y_hat, Y):\n",
    "    Y_hat = convert_prob_into_class(Y_hat)\n",
    "    return (Y_hat == Y).all(axis=0).mean()"
   ]
  },
  {
   "cell_type": "markdown",
   "metadata": {},
   "source": [
    "使用交叉熵函数公式：\n",
    "$$\n",
    "L(\\widehat{y}, y)=-(ylog\\widehat{y}+(1-y)log(1-\\widehat{y}))\n",
    "$$\n",
    "这是2分类的交叉熵函数"
   ]
  },
  {
   "cell_type": "markdown",
   "metadata": {},
   "source": [
    "## Backward Propagation(single and full layer backward propagation)"
   ]
  },
  {
   "cell_type": "code",
   "execution_count": 21,
   "metadata": {},
   "outputs": [],
   "source": [
    "def single_layer_backward_propagation(dA_curr, W_curr, b_curr, Z_curr, A_prev, activation='relu'):\n",
    "    m = A_prev.shape[1]\n",
    "    \n",
    "    if activation == 'relu':\n",
    "        backward_activation_func = relu_backward\n",
    "    \n",
    "    elif activation == 'sigmoid':\n",
    "        backward_activation_func = sigmoid_backward\n",
    "        \n",
    "    dZ_curr = backward_activation_func(dA_curr, Z_curr) # 标量对激活函数的求导\n",
    "    dW_curr = np.dot(dZ_curr, A_prev.T) / m # 标量对没经过激活函数的求导\n",
    "    db_curr = np.sum(dZ_curr, axis=1, keepdims=True) / m # 标量对向量的求导，得到偏置的导数\n",
    "    dA_prev = np.dot(W_curr.T, dZ_curr) # \n",
    "    \n",
    "    return dA_prev, dW_curr, db_curr"
   ]
  },
  {
   "cell_type": "markdown",
   "metadata": {},
   "source": [
    "keepdim的作用：\n",
    "\n",
    "假如原先是二维矩阵，那么sum之后，得到的还是一个二维矩阵。如果keepdim是False，那么得到的就是一个标量\n",
    "\n",
    "矩阵的求导：https://zhuanlan.zhihu.com/p/24709748"
   ]
  },
  {
   "cell_type": "code",
   "execution_count": 22,
   "metadata": {},
   "outputs": [],
   "source": [
    "def full_backward_propagation(Y_hat, Y, memory, params_values, nn_architecture):\n",
    "    grads_values = {}\n",
    "    m = Y.shape[1]\n",
    "    Y = Y.reshape(Y_hat.shape)\n",
    "    \n",
    "    dA_prev = -(np.divide(Y, Y_hat) - np.divide(1-Y, 1-Y_hat))\n",
    "    \n",
    "    for layer_idx_prev, layer in reversed(list(enumerate(nn_architecture))):\n",
    "        layer_idx_curr = layer_idx_prev + 1\n",
    "        activ_function_curr = layer['activation']\n",
    "        \n",
    "        dA_curr = dA_prev\n",
    "        \n",
    "        A_prev = memory['A' + str(layer_idx_prev)]\n",
    "        Z_curr = memory['Z' + str(layer_idx_curr)]\n",
    "        W_curr = params_values['W' + str(layer_idx_curr)]\n",
    "        b_curr = params_values['b' + str(layer_idx_curr)]\n",
    "        \n",
    "        dA_prev, dW_curr, db_curr = single_layer_backward_propagation(\n",
    "        dA_curr, W_curr, b_curr, Z_curr, A_prev, activ_funtion_curr)\n",
    "        \n",
    "        grads_values['dW' + str(layer_idx_curr)] = dW_curr\n",
    "        grads_values['db' + str(layer_idx_curr)] = db_curr\n",
    "        \n",
    "    return grads_values"
   ]
  },
  {
   "cell_type": "markdown",
   "metadata": {},
   "source": [
    "## 更新权重参数(parmas update)"
   ]
  },
  {
   "cell_type": "code",
   "execution_count": 23,
   "metadata": {},
   "outputs": [],
   "source": [
    "def update(parmas_values, grads_values, nn_architecture, learning_rate):\n",
    "    for layer_idx, layer in enumerate(nn_architecture):\n",
    "        parmas_values['W' + str(layer_idx)] -= learning_rate * grads_values['dW' + str(layer_idx)]\n",
    "        parmas_values['b' + str(layer_idx)] -= learning_rate * grads_values['db' + str(layer_idx)]\n",
    "    return parms_values"
   ]
  },
  {
   "cell_type": "markdown",
   "metadata": {},
   "source": [
    "## Putting things together(train)"
   ]
  },
  {
   "cell_type": "code",
   "execution_count": 24,
   "metadata": {},
   "outputs": [],
   "source": [
    "def train(X, Y, nn_architecture, epochs, learning_rate):\n",
    "    params_values = init_layers(nn_architecture, seed=2) # 初始化网络权重，以字典的形式存储\n",
    "    cost_history = []\n",
    "    accuracy_history = []\n",
    "    \n",
    "    for i in range(epochs):\n",
    "        # Y_hat是预测值， cashe是每一层的输出，以字典的形式存储\n",
    "        Y_hat, cashe = full_forward_propagation(X, params_values, nn_architecture)\n",
    "        cost = get_accuracy_value(Y_hat, Y)# Y_hat是预测值，Y是真实标签\n",
    "        cost_history.append(accuracy)\n",
    "        \n",
    "        grads_values = full_backward_propagation(Y_hat, Y, cashe, params_values, nn_architecture)\n",
    "        params_values = update(params_values, grads_values, nn_architecture, learning_rate)\n",
    "    \n",
    "    return params_values, cost_history, accuracy_history"
   ]
  },
  {
   "cell_type": "code",
   "execution_count": null,
   "metadata": {},
   "outputs": [],
   "source": []
  }
 ],
 "metadata": {
  "kernelspec": {
   "display_name": "Python 3.8.0 64-bit ('python38_env': conda)",
   "language": "python",
   "name": "python38064bitpython38envcondac66e67a9f62b441c8e431c587206823e"
  },
  "language_info": {
   "codemirror_mode": {
    "name": "ipython",
    "version": 3
   },
   "file_extension": ".py",
   "mimetype": "text/x-python",
   "name": "python",
   "nbconvert_exporter": "python",
   "pygments_lexer": "ipython3",
   "version": "3.8.0"
  },
  "toc": {
   "base_numbering": 1,
   "nav_menu": {},
   "number_sections": true,
   "sideBar": true,
   "skip_h1_title": false,
   "title_cell": "Table of Contents",
   "title_sidebar": "Contents",
   "toc_cell": false,
   "toc_position": {},
   "toc_section_display": true,
   "toc_window_display": true
  }
 },
 "nbformat": 4,
 "nbformat_minor": 4
}
