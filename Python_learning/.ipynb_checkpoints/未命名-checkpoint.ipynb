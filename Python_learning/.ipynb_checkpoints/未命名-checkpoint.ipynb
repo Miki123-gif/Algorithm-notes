{
 "cells": [
  {
   "cell_type": "code",
   "execution_count": 1,
   "metadata": {},
   "outputs": [],
   "source": [
    "import sys"
   ]
  },
  {
   "cell_type": "code",
   "execution_count": 2,
   "metadata": {},
   "outputs": [
    {
     "data": {
      "text/plain": [
       "'/usr/local/bin/python3.7'"
      ]
     },
     "execution_count": 2,
     "metadata": {},
     "output_type": "execute_result"
    }
   ],
   "source": [
    "sys.executable"
   ]
  },
  {
   "cell_type": "code",
   "execution_count": 3,
   "metadata": {},
   "outputs": [
    {
     "name": "stdout",
     "output_type": "stream",
     "text": [
      "/Users/mikizhu/miniconda3/lib/python3.8/multiprocessing/resource_tracker.py:216: UserWarning: resource_tracker: There appear to be 1 leaked semaphore objects to clean up at shutdown\n",
      "  warnings.warn('resource_tracker: There appear to be %d '\n",
      "# conda environments:\n",
      "#\n",
      "base                     /Users/mikizhu/miniconda3\n",
      "py38_env              *  /Users/mikizhu/miniconda3/envs/py38_env\n",
      "\n"
     ]
    }
   ],
   "source": [
    "!conda env list"
   ]
  },
  {
   "cell_type": "code",
   "execution_count": null,
   "metadata": {},
   "outputs": [
    {
     "name": "stdout",
     "output_type": "stream",
     "text": [
      "\u001b[32m[I 08:57:20.039 NotebookApp]\u001b[m 端口 8888 已经被站用, 请尝试其他端口.\n",
      "\u001b[32m[I 08:57:20.039 NotebookApp]\u001b[m 端口 8889 已经被站用, 请尝试其他端口.\n",
      "\u001b[33m[W 08:57:20.045 NotebookApp]\u001b[m 加载插件 jupyter_nbextensions_configurator 失败\n",
      "    Traceback (most recent call last):\n",
      "      File \"/Library/Frameworks/Python.framework/Versions/3.7/lib/python3.7/site-packages/notebook/notebookapp.py\", line 1670, in init_server_extensions\n",
      "        mod = importlib.import_module(modulename)\n",
      "      File \"/Library/Frameworks/Python.framework/Versions/3.7/lib/python3.7/importlib/__init__.py\", line 127, in import_module\n",
      "        return _bootstrap._gcd_import(name[level:], package, level)\n",
      "      File \"<frozen importlib._bootstrap>\", line 1006, in _gcd_import\n",
      "      File \"<frozen importlib._bootstrap>\", line 983, in _find_and_load\n",
      "      File \"<frozen importlib._bootstrap>\", line 965, in _find_and_load_unlocked\n",
      "    ModuleNotFoundError: No module named 'jupyter_nbextensions_configurator'\n",
      "\u001b[32m[I 08:57:20.051 NotebookApp]\u001b[m 启动notebooks 在本地路径: /Users/mikizhu/Desktop/Notes/Python_learning\n",
      "\u001b[32m[I 08:57:20.052 NotebookApp]\u001b[m 本程序运行在: http://localhost:8890/?token=afa9fcbf57983089f86783d74fdb0d8bb465ee99c7b7e955\n",
      "\u001b[32m[I 08:57:20.052 NotebookApp]\u001b[m  or http://127.0.0.1:8890/?token=afa9fcbf57983089f86783d74fdb0d8bb465ee99c7b7e955\n",
      "\u001b[32m[I 08:57:20.052 NotebookApp]\u001b[m 使用control-c停止此服务器并关闭所有内核(两次跳过确认).\n",
      "[C 08:57:20.057 NotebookApp] \n",
      "    \n",
      "    To access the notebook, open this file in a browser:\n",
      "        file:///Users/mikizhu/Library/Jupyter/runtime/nbserver-28855-open.html\n",
      "    Or copy and paste one of these URLs:\n",
      "        http://localhost:8890/?token=afa9fcbf57983089f86783d74fdb0d8bb465ee99c7b7e955\n",
      "     or http://127.0.0.1:8890/?token=afa9fcbf57983089f86783d74fdb0d8bb465ee99c7b7e955\n",
      "\u001b[33m[W 08:57:21.668 NotebookApp]\u001b[m 404 GET /nbextensions/nbextensions_configurator/tree_tab/main.js?v=20201024085719 (::1) 7.74ms referer=http://localhost:8890/tree\n",
      "\u001b[32m[I 08:57:24.300 NotebookApp]\u001b[m Kernel started: 4859ce2e-9826-42e3-8fd6-3f005a16be7f\n",
      "\u001b[33m[W 08:57:24.312 NotebookApp]\u001b[m 404 GET /nbextensions/widgets/notebook/js/extension.js?v=20201024085719 (::1) 2.76ms referer=http://localhost:8890/notebooks/%E6%9C%AA%E5%91%BD%E5%90%8D.ipynb\n",
      "\u001b[32m[I 08:57:37.615 NotebookApp]\u001b[m Starting buffering for 4859ce2e-9826-42e3-8fd6-3f005a16be7f:c8e51162040d432b8857df6f140addc6\n",
      "\u001b[32m[I 08:57:43.977 NotebookApp]\u001b[m Kernel shutdown: 4859ce2e-9826-42e3-8fd6-3f005a16be7f\n",
      "\u001b[33m[W 08:57:44.287 NotebookApp]\u001b[m delete /未命名.ipynb\n"
     ]
    }
   ],
   "source": [
    "!jupyter notebook"
   ]
  },
  {
   "cell_type": "code",
   "execution_count": null,
   "metadata": {},
   "outputs": [],
   "source": []
  }
 ],
 "metadata": {
  "kernelspec": {
   "display_name": "Python 3",
   "language": "python",
   "name": "python3"
  },
  "language_info": {
   "codemirror_mode": {
    "name": "ipython",
    "version": 3
   },
   "file_extension": ".py",
   "mimetype": "text/x-python",
   "name": "python",
   "nbconvert_exporter": "python",
   "pygments_lexer": "ipython3",
   "version": "3.7.7"
  }
 },
 "nbformat": 4,
 "nbformat_minor": 4
}
